{
 "cells": [
  {
   "cell_type": "markdown",
   "id": "fe187be2",
   "metadata": {},
   "source": [
    "## 파일불러오기 & 합치기"
   ]
  },
  {
   "cell_type": "code",
   "execution_count": 1,
   "id": "1720ce03",
   "metadata": {},
   "outputs": [],
   "source": [
    "import pandas as pd\n",
    "import numpy as np\n",
    "from pandas import Series, DataFrame\n",
    "import csv \n",
    "import matplotlib.pyplot as plt"
   ]
  },
  {
   "cell_type": "code",
   "execution_count": 2,
   "id": "cae771d9",
   "metadata": {},
   "outputs": [],
   "source": [
    "data_2019_01 = pd.read_csv('./data/H_data/T20_2019_1백만.1.csv', encoding='cp949')\n",
    "data_2019_02 = pd.read_csv('./data/H_data/T20_2019_1백만.2.csv', encoding='cp949')\n",
    "data_2019_03 = pd.read_csv('./data/H_data/T20_2019_1백만.3.csv', encoding='cp949')"
   ]
  },
  {
   "cell_type": "code",
   "execution_count": 3,
   "id": "b5fc2863",
   "metadata": {},
   "outputs": [],
   "source": [
    "data_2020_01 = pd.read_csv('./data/H_data/HP_T20_2020_1.CSV', encoding='cp949')\n",
    "data_2020_02 = pd.read_csv('./data/H_data/HP_T20_2020_2.CSV', encoding='cp949')\n",
    "data_2020_03 = pd.read_csv('./data/H_data/HP_T20_2020_3.CSV', encoding='cp949')"
   ]
  },
  {
   "cell_type": "code",
   "execution_count": 4,
   "id": "c766ecbe",
   "metadata": {},
   "outputs": [],
   "source": [
    "data = pd.concat([data_2019_01, data_2019_02, data_2019_03, data_2020_01, data_2020_02, data_2020_03])"
   ]
  },
  {
   "cell_type": "code",
   "execution_count": 5,
   "id": "8f22004d",
   "metadata": {
    "scrolled": true
   },
   "outputs": [
    {
     "name": "stdout",
     "output_type": "stream",
     "text": [
      "<class 'pandas.core.frame.DataFrame'>\n",
      "Int64Index: 24905593 entries, 0 to 3905194\n",
      "Data columns (total 19 columns):\n",
      " #   Column      Dtype  \n",
      "---  ------      -----  \n",
      " 0   기준년도        int64  \n",
      " 1   가입자 일련번호    int64  \n",
      " 2   진료내역일련번호    int64  \n",
      " 3   성별코드        int64  \n",
      " 4   연령대코드       int64  \n",
      " 5   시도코드        int64  \n",
      " 6   요양개시일자      object \n",
      " 7   서식코드        int64  \n",
      " 8   진료과목코드      int64  \n",
      " 9   주상병코드       object \n",
      " 10  부상병코드       object \n",
      " 11  요양일수        int64  \n",
      " 12  입내원일수       int64  \n",
      " 13  심결가산율       float64\n",
      " 14  심결요양급여비용총액  int64  \n",
      " 15  심결본인부담금     int64  \n",
      " 16  심결보험자부담금    int64  \n",
      " 17  총처방일수       int64  \n",
      " 18  데이터 기준일자    object \n",
      "dtypes: float64(1), int64(14), object(4)\n",
      "memory usage: 3.7+ GB\n"
     ]
    }
   ],
   "source": [
    "data.info()"
   ]
  },
  {
   "cell_type": "code",
   "execution_count": 8,
   "id": "e86aa68d",
   "metadata": {},
   "outputs": [],
   "source": [
    "data_2019 = pd.concat([data_2019_01, data_2019_02, data_2019_03])"
   ]
  },
  {
   "cell_type": "code",
   "execution_count": 5,
   "id": "b0aaf5e3",
   "metadata": {},
   "outputs": [],
   "source": [
    "data_2020 = pd.concat([data_2020_01, data_2020_02, data_2020_03])"
   ]
  },
  {
   "cell_type": "code",
   "execution_count": 6,
   "id": "98e52ba6",
   "metadata": {
    "scrolled": true
   },
   "outputs": [
    {
     "name": "stdout",
     "output_type": "stream",
     "text": [
      "<class 'pandas.core.frame.DataFrame'>\n",
      "Int64Index: 13178345 entries, 0 to 3951426\n",
      "Data columns (total 19 columns):\n",
      " #   Column      Dtype  \n",
      "---  ------      -----  \n",
      " 0   기준년도        int64  \n",
      " 1   가입자 일련번호    int64  \n",
      " 2   진료내역일련번호    int64  \n",
      " 3   성별코드        int64  \n",
      " 4   연령대코드       int64  \n",
      " 5   시도코드        int64  \n",
      " 6   요양개시일자      int64  \n",
      " 7   서식코드        int64  \n",
      " 8   진료과목코드      int64  \n",
      " 9   주상병코드       object \n",
      " 10  부상병코드       object \n",
      " 11  요양일수        int64  \n",
      " 12  입내원일수       int64  \n",
      " 13  심결가산율       float64\n",
      " 14  심결요양급여비용총액  int64  \n",
      " 15  심결본인부담금     int64  \n",
      " 16  심결보험자부담금    int64  \n",
      " 17  총처방일수       int64  \n",
      " 18  데이터 기준일자    int64  \n",
      "dtypes: float64(1), int64(16), object(2)\n",
      "memory usage: 2.0+ GB\n"
     ]
    }
   ],
   "source": [
    "data_2019.info()"
   ]
  },
  {
   "cell_type": "code",
   "execution_count": 7,
   "id": "30b46606",
   "metadata": {},
   "outputs": [
    {
     "name": "stdout",
     "output_type": "stream",
     "text": [
      "<class 'pandas.core.frame.DataFrame'>\n",
      "Int64Index: 11727248 entries, 0 to 3905194\n",
      "Data columns (total 19 columns):\n",
      " #   Column      Dtype  \n",
      "---  ------      -----  \n",
      " 0   기준년도        int64  \n",
      " 1   가입자 일련번호    int64  \n",
      " 2   진료내역일련번호    int64  \n",
      " 3   성별코드        int64  \n",
      " 4   연령대코드       int64  \n",
      " 5   시도코드        int64  \n",
      " 6   요양개시일자      object \n",
      " 7   서식코드        int64  \n",
      " 8   진료과목코드      int64  \n",
      " 9   주상병코드       object \n",
      " 10  부상병코드       object \n",
      " 11  요양일수        int64  \n",
      " 12  입내원일수       int64  \n",
      " 13  심결가산율       float64\n",
      " 14  심결요양급여비용총액  int64  \n",
      " 15  심결본인부담금     int64  \n",
      " 16  심결보험자부담금    int64  \n",
      " 17  총처방일수       int64  \n",
      " 18  데이터 기준일자    object \n",
      "dtypes: float64(1), int64(14), object(4)\n",
      "memory usage: 1.7+ GB\n"
     ]
    }
   ],
   "source": [
    "data_2020.info()"
   ]
  },
  {
   "cell_type": "markdown",
   "id": "af7d6b92",
   "metadata": {},
   "source": [
    "## 원하는 컬럼만 추출하기"
   ]
  },
  {
   "cell_type": "code",
   "execution_count": 9,
   "id": "b30bb868",
   "metadata": {},
   "outputs": [
    {
     "data": {
      "text/html": [
       "<div>\n",
       "<style scoped>\n",
       "    .dataframe tbody tr th:only-of-type {\n",
       "        vertical-align: middle;\n",
       "    }\n",
       "\n",
       "    .dataframe tbody tr th {\n",
       "        vertical-align: top;\n",
       "    }\n",
       "\n",
       "    .dataframe thead th {\n",
       "        text-align: right;\n",
       "    }\n",
       "</style>\n",
       "<table border=\"1\" class=\"dataframe\">\n",
       "  <thead>\n",
       "    <tr style=\"text-align: right;\">\n",
       "      <th></th>\n",
       "      <th>성별코드</th>\n",
       "      <th>연령대코드</th>\n",
       "      <th>시도코드</th>\n",
       "      <th>진료과목코드</th>\n",
       "      <th>주상병코드</th>\n",
       "      <th>부상병코드</th>\n",
       "    </tr>\n",
       "  </thead>\n",
       "  <tbody>\n",
       "    <tr>\n",
       "      <th>0</th>\n",
       "      <td>2</td>\n",
       "      <td>12</td>\n",
       "      <td>46</td>\n",
       "      <td>5</td>\n",
       "      <td>M751</td>\n",
       "      <td>M750</td>\n",
       "    </tr>\n",
       "    <tr>\n",
       "      <th>1</th>\n",
       "      <td>2</td>\n",
       "      <td>12</td>\n",
       "      <td>46</td>\n",
       "      <td>1</td>\n",
       "      <td>E1164</td>\n",
       "      <td>N308</td>\n",
       "    </tr>\n",
       "    <tr>\n",
       "      <th>2</th>\n",
       "      <td>2</td>\n",
       "      <td>12</td>\n",
       "      <td>46</td>\n",
       "      <td>1</td>\n",
       "      <td>N308</td>\n",
       "      <td>E1164</td>\n",
       "    </tr>\n",
       "    <tr>\n",
       "      <th>3</th>\n",
       "      <td>2</td>\n",
       "      <td>12</td>\n",
       "      <td>46</td>\n",
       "      <td>1</td>\n",
       "      <td>E1164</td>\n",
       "      <td>N308</td>\n",
       "    </tr>\n",
       "    <tr>\n",
       "      <th>4</th>\n",
       "      <td>2</td>\n",
       "      <td>12</td>\n",
       "      <td>46</td>\n",
       "      <td>13</td>\n",
       "      <td>H6531</td>\n",
       "      <td>J303</td>\n",
       "    </tr>\n",
       "  </tbody>\n",
       "</table>\n",
       "</div>"
      ],
      "text/plain": [
       "   성별코드  연령대코드  시도코드  진료과목코드  주상병코드  부상병코드\n",
       "0     2     12    46       5   M751   M750\n",
       "1     2     12    46       1  E1164   N308\n",
       "2     2     12    46       1   N308  E1164\n",
       "3     2     12    46       1  E1164   N308\n",
       "4     2     12    46      13  H6531   J303"
      ]
     },
     "execution_count": 9,
     "metadata": {},
     "output_type": "execute_result"
    }
   ],
   "source": [
    "data_2019_df = data_2019.loc[:,['성별코드', '연령대코드', '시도코드', '진료과목코드', '주상병코드', '부상병코드']]\n",
    "data_2019_df.head()"
   ]
  },
  {
   "cell_type": "code",
   "execution_count": 10,
   "id": "8007d8cc",
   "metadata": {
    "scrolled": false
   },
   "outputs": [
    {
     "data": {
      "text/html": [
       "<div>\n",
       "<style scoped>\n",
       "    .dataframe tbody tr th:only-of-type {\n",
       "        vertical-align: middle;\n",
       "    }\n",
       "\n",
       "    .dataframe tbody tr th {\n",
       "        vertical-align: top;\n",
       "    }\n",
       "\n",
       "    .dataframe thead th {\n",
       "        text-align: right;\n",
       "    }\n",
       "</style>\n",
       "<table border=\"1\" class=\"dataframe\">\n",
       "  <thead>\n",
       "    <tr style=\"text-align: right;\">\n",
       "      <th></th>\n",
       "      <th>성별코드</th>\n",
       "      <th>연령대코드</th>\n",
       "      <th>시도코드</th>\n",
       "      <th>진료과목코드</th>\n",
       "      <th>주상병코드</th>\n",
       "      <th>부상병코드</th>\n",
       "    </tr>\n",
       "  </thead>\n",
       "  <tbody>\n",
       "    <tr>\n",
       "      <th>0</th>\n",
       "      <td>1</td>\n",
       "      <td>17</td>\n",
       "      <td>41</td>\n",
       "      <td>1</td>\n",
       "      <td>I109</td>\n",
       "      <td>E785</td>\n",
       "    </tr>\n",
       "    <tr>\n",
       "      <th>1</th>\n",
       "      <td>1</td>\n",
       "      <td>17</td>\n",
       "      <td>41</td>\n",
       "      <td>1</td>\n",
       "      <td>I109</td>\n",
       "      <td>E785</td>\n",
       "    </tr>\n",
       "    <tr>\n",
       "      <th>2</th>\n",
       "      <td>2</td>\n",
       "      <td>18</td>\n",
       "      <td>41</td>\n",
       "      <td>1</td>\n",
       "      <td>I109</td>\n",
       "      <td>I251</td>\n",
       "    </tr>\n",
       "    <tr>\n",
       "      <th>3</th>\n",
       "      <td>2</td>\n",
       "      <td>18</td>\n",
       "      <td>41</td>\n",
       "      <td>1</td>\n",
       "      <td>I109</td>\n",
       "      <td>I251</td>\n",
       "    </tr>\n",
       "    <tr>\n",
       "      <th>4</th>\n",
       "      <td>2</td>\n",
       "      <td>17</td>\n",
       "      <td>41</td>\n",
       "      <td>1</td>\n",
       "      <td>I109</td>\n",
       "      <td>E780</td>\n",
       "    </tr>\n",
       "  </tbody>\n",
       "</table>\n",
       "</div>"
      ],
      "text/plain": [
       "   성별코드  연령대코드  시도코드  진료과목코드 주상병코드 부상병코드\n",
       "0     1     17    41       1  I109  E785\n",
       "1     1     17    41       1  I109  E785\n",
       "2     2     18    41       1  I109  I251\n",
       "3     2     18    41       1  I109  I251\n",
       "4     2     17    41       1  I109  E780"
      ]
     },
     "execution_count": 10,
     "metadata": {},
     "output_type": "execute_result"
    }
   ],
   "source": [
    "data_2020_df = data_2020.loc[:,['성별코드', '연령대코드', '시도코드', '진료과목코드', '주상병코드', '부상병코드']]\n",
    "data_2020_df.head()"
   ]
  },
  {
   "cell_type": "code",
   "execution_count": 6,
   "id": "d3b95db7",
   "metadata": {},
   "outputs": [
    {
     "data": {
      "text/html": [
       "<div>\n",
       "<style scoped>\n",
       "    .dataframe tbody tr th:only-of-type {\n",
       "        vertical-align: middle;\n",
       "    }\n",
       "\n",
       "    .dataframe tbody tr th {\n",
       "        vertical-align: top;\n",
       "    }\n",
       "\n",
       "    .dataframe thead th {\n",
       "        text-align: right;\n",
       "    }\n",
       "</style>\n",
       "<table border=\"1\" class=\"dataframe\">\n",
       "  <thead>\n",
       "    <tr style=\"text-align: right;\">\n",
       "      <th></th>\n",
       "      <th>성별코드</th>\n",
       "      <th>연령대코드</th>\n",
       "      <th>시도코드</th>\n",
       "      <th>진료과목코드</th>\n",
       "      <th>주상병코드</th>\n",
       "    </tr>\n",
       "  </thead>\n",
       "  <tbody>\n",
       "    <tr>\n",
       "      <th>0</th>\n",
       "      <td>2</td>\n",
       "      <td>12</td>\n",
       "      <td>46</td>\n",
       "      <td>5</td>\n",
       "      <td>M751</td>\n",
       "    </tr>\n",
       "    <tr>\n",
       "      <th>1</th>\n",
       "      <td>2</td>\n",
       "      <td>12</td>\n",
       "      <td>46</td>\n",
       "      <td>1</td>\n",
       "      <td>E1164</td>\n",
       "    </tr>\n",
       "    <tr>\n",
       "      <th>2</th>\n",
       "      <td>2</td>\n",
       "      <td>12</td>\n",
       "      <td>46</td>\n",
       "      <td>1</td>\n",
       "      <td>N308</td>\n",
       "    </tr>\n",
       "    <tr>\n",
       "      <th>3</th>\n",
       "      <td>2</td>\n",
       "      <td>12</td>\n",
       "      <td>46</td>\n",
       "      <td>1</td>\n",
       "      <td>E1164</td>\n",
       "    </tr>\n",
       "    <tr>\n",
       "      <th>4</th>\n",
       "      <td>2</td>\n",
       "      <td>12</td>\n",
       "      <td>46</td>\n",
       "      <td>13</td>\n",
       "      <td>H6531</td>\n",
       "    </tr>\n",
       "  </tbody>\n",
       "</table>\n",
       "</div>"
      ],
      "text/plain": [
       "   성별코드  연령대코드  시도코드  진료과목코드  주상병코드\n",
       "0     2     12    46       5   M751\n",
       "1     2     12    46       1  E1164\n",
       "2     2     12    46       1   N308\n",
       "3     2     12    46       1  E1164\n",
       "4     2     12    46      13  H6531"
      ]
     },
     "execution_count": 6,
     "metadata": {},
     "output_type": "execute_result"
    }
   ],
   "source": [
    "data_df = data.loc[:,['성별코드', '연령대코드', '시도코드', '진료과목코드', '주상병코드']]\n",
    "data_df.head()"
   ]
  },
  {
   "cell_type": "code",
   "execution_count": 21,
   "id": "90305677",
   "metadata": {},
   "outputs": [],
   "source": [
    "# drop() 으로 원하는 컬럼만 추출하기\n",
    "# data_df = data.drop(['기준년도','가입자 일련번호', '진료내역일련번호', '요양개시일자', '서식코드', '요양일수', '입내원일수', '심결가산율', '심결요양급여비용총액', '심결본인부담금', '심결보험자부담금', '총처방일수', '데이터 기준일자'], axis=1)\n",
    "# data_df.head()"
   ]
  },
  {
   "cell_type": "markdown",
   "id": "db076e2d",
   "metadata": {},
   "source": [
    "## 원하는 컬럼으로 정렬하기"
   ]
  },
  {
   "cell_type": "code",
   "execution_count": 10,
   "id": "c9971ad3",
   "metadata": {
    "scrolled": true
   },
   "outputs": [
    {
     "data": {
      "text/html": [
       "<div>\n",
       "<style scoped>\n",
       "    .dataframe tbody tr th:only-of-type {\n",
       "        vertical-align: middle;\n",
       "    }\n",
       "\n",
       "    .dataframe tbody tr th {\n",
       "        vertical-align: top;\n",
       "    }\n",
       "\n",
       "    .dataframe thead th {\n",
       "        text-align: right;\n",
       "    }\n",
       "</style>\n",
       "<table border=\"1\" class=\"dataframe\">\n",
       "  <thead>\n",
       "    <tr style=\"text-align: right;\">\n",
       "      <th></th>\n",
       "      <th>성별코드</th>\n",
       "      <th>시도코드</th>\n",
       "      <th>진료과목코드</th>\n",
       "      <th>주상병코드</th>\n",
       "      <th>부상병코드</th>\n",
       "    </tr>\n",
       "    <tr>\n",
       "      <th>연령대코드</th>\n",
       "      <th></th>\n",
       "      <th></th>\n",
       "      <th></th>\n",
       "      <th></th>\n",
       "      <th></th>\n",
       "    </tr>\n",
       "  </thead>\n",
       "  <tbody>\n",
       "    <tr>\n",
       "      <th>1</th>\n",
       "      <td>1</td>\n",
       "      <td>41</td>\n",
       "      <td>13</td>\n",
       "      <td>H6691</td>\n",
       "      <td>J0191</td>\n",
       "    </tr>\n",
       "    <tr>\n",
       "      <th>1</th>\n",
       "      <td>1</td>\n",
       "      <td>47</td>\n",
       "      <td>13</td>\n",
       "      <td>H6640</td>\n",
       "      <td>J0180</td>\n",
       "    </tr>\n",
       "    <tr>\n",
       "      <th>1</th>\n",
       "      <td>1</td>\n",
       "      <td>47</td>\n",
       "      <td>13</td>\n",
       "      <td>J209</td>\n",
       "      <td>H6641</td>\n",
       "    </tr>\n",
       "    <tr>\n",
       "      <th>1</th>\n",
       "      <td>1</td>\n",
       "      <td>47</td>\n",
       "      <td>13</td>\n",
       "      <td>J0390</td>\n",
       "      <td>J0190</td>\n",
       "    </tr>\n",
       "    <tr>\n",
       "      <th>1</th>\n",
       "      <td>1</td>\n",
       "      <td>47</td>\n",
       "      <td>13</td>\n",
       "      <td>J0191</td>\n",
       "      <td>A090</td>\n",
       "    </tr>\n",
       "    <tr>\n",
       "      <th>...</th>\n",
       "      <td>...</td>\n",
       "      <td>...</td>\n",
       "      <td>...</td>\n",
       "      <td>...</td>\n",
       "      <td>...</td>\n",
       "    </tr>\n",
       "    <tr>\n",
       "      <th>18</th>\n",
       "      <td>1</td>\n",
       "      <td>31</td>\n",
       "      <td>1</td>\n",
       "      <td>J4499</td>\n",
       "      <td>C3410</td>\n",
       "    </tr>\n",
       "    <tr>\n",
       "      <th>18</th>\n",
       "      <td>1</td>\n",
       "      <td>31</td>\n",
       "      <td>7</td>\n",
       "      <td>I109</td>\n",
       "      <td>E785</td>\n",
       "    </tr>\n",
       "    <tr>\n",
       "      <th>18</th>\n",
       "      <td>1</td>\n",
       "      <td>31</td>\n",
       "      <td>7</td>\n",
       "      <td>I109</td>\n",
       "      <td>R060</td>\n",
       "    </tr>\n",
       "    <tr>\n",
       "      <th>18</th>\n",
       "      <td>2</td>\n",
       "      <td>27</td>\n",
       "      <td>1</td>\n",
       "      <td>M5446</td>\n",
       "      <td>I509</td>\n",
       "    </tr>\n",
       "    <tr>\n",
       "      <th>18</th>\n",
       "      <td>2</td>\n",
       "      <td>46</td>\n",
       "      <td>4</td>\n",
       "      <td>M750</td>\n",
       "      <td>M1394</td>\n",
       "    </tr>\n",
       "  </tbody>\n",
       "</table>\n",
       "<p>13178345 rows × 5 columns</p>\n",
       "</div>"
      ],
      "text/plain": [
       "       성별코드  시도코드  진료과목코드  주상병코드  부상병코드\n",
       "연령대코드                                  \n",
       "1         1    41      13  H6691  J0191\n",
       "1         1    47      13  H6640  J0180\n",
       "1         1    47      13   J209  H6641\n",
       "1         1    47      13  J0390  J0190\n",
       "1         1    47      13  J0191   A090\n",
       "...     ...   ...     ...    ...    ...\n",
       "18        1    31       1  J4499  C3410\n",
       "18        1    31       7   I109   E785\n",
       "18        1    31       7   I109   R060\n",
       "18        2    27       1  M5446   I509\n",
       "18        2    46       4   M750  M1394\n",
       "\n",
       "[13178345 rows x 5 columns]"
      ]
     },
     "execution_count": 10,
     "metadata": {},
     "output_type": "execute_result"
    }
   ],
   "source": [
    "data19 = data_2019_df.set_index('연령대코드')\n",
    "data19.sort_index()"
   ]
  },
  {
   "cell_type": "code",
   "execution_count": 11,
   "id": "7a0a63a2",
   "metadata": {
    "scrolled": false
   },
   "outputs": [
    {
     "data": {
      "text/plain": [
       "연령대코드  주상병코드\n",
       "1      A044       2\n",
       "       A047      49\n",
       "       A048      15\n",
       "       A049     363\n",
       "       A069      17\n",
       "               ... \n",
       "18     Z9663     15\n",
       "       Z9664      6\n",
       "       Z9881      2\n",
       "       Z9888    341\n",
       "       Z_         6\n",
       "Length: 79222, dtype: int64"
      ]
     },
     "execution_count": 11,
     "metadata": {},
     "output_type": "execute_result"
    }
   ],
   "source": [
    "agedata = data19.groupby(by = ['연령대코드', '주상병코드'])\n",
    "agedata.size()"
   ]
  },
  {
   "cell_type": "code",
   "execution_count": 15,
   "id": "70427cd4",
   "metadata": {},
   "outputs": [
    {
     "data": {
      "text/plain": [
       "연령대코드  주상병코드\n",
       "1      A044       2\n",
       "       A047      49\n",
       "       A048      15\n",
       "       A049     363\n",
       "       A069      17\n",
       "dtype: int64"
      ]
     },
     "execution_count": 15,
     "metadata": {},
     "output_type": "execute_result"
    }
   ],
   "source": [
    "age = agedata.size()\n",
    "age.head()"
   ]
  },
  {
   "cell_type": "code",
   "execution_count": 16,
   "id": "47b62963",
   "metadata": {},
   "outputs": [],
   "source": [
    "age_df = pd.DataFrame(age)"
   ]
  },
  {
   "cell_type": "markdown",
   "id": "ef2cce43",
   "metadata": {},
   "source": [
    "## 원하는 컬럼으로 빈도수 확인하기"
   ]
  },
  {
   "cell_type": "code",
   "execution_count": 19,
   "id": "4918e88d",
   "metadata": {},
   "outputs": [
    {
     "data": {
      "text/plain": [
       "J209     1141433\n",
       "I109      721046\n",
       "F_        400125\n",
       "E119      228032\n",
       "N_        226973\n",
       "          ...   \n",
       "P610           1\n",
       "M8890          1\n",
       "M2122          1\n",
       "T864           1\n",
       "M6137          1\n",
       "Name: 주상병코드, Length: 9422, dtype: int64"
      ]
     },
     "execution_count": 19,
     "metadata": {},
     "output_type": "execute_result"
    }
   ],
   "source": [
    "data_2019_df['주상병코드'].value_counts()"
   ]
  },
  {
   "cell_type": "code",
   "execution_count": 20,
   "id": "20985fc5",
   "metadata": {},
   "outputs": [
    {
     "data": {
      "text/plain": [
       "13    1257824\n",
       "12    1142160\n",
       "14    1095067\n",
       "15    1018216\n",
       "1      975520\n",
       "11     962494\n",
       "16     937515\n",
       "10     822247\n",
       "2      674510\n",
       "9      657625\n",
       "8      650838\n",
       "17     628376\n",
       "7      493883\n",
       "6      451349\n",
       "5      361527\n",
       "3      361001\n",
       "4      344120\n",
       "18     344073\n",
       "Name: 연령대코드, dtype: int64"
      ]
     },
     "execution_count": 20,
     "metadata": {},
     "output_type": "execute_result"
    }
   ],
   "source": [
    "data_2019_df['연령대코드'].value_counts()"
   ]
  },
  {
   "cell_type": "code",
   "execution_count": 24,
   "id": "9e750316",
   "metadata": {},
   "outputs": [
    {
     "data": {
      "text/plain": [
       "연령대코드  주상병코드\n",
       "1      A044       2\n",
       "       A047      49\n",
       "       A048      15\n",
       "       A049     363\n",
       "       A069      17\n",
       "               ... \n",
       "18     Z9663     15\n",
       "       Z9664      6\n",
       "       Z9881      2\n",
       "       Z9888    341\n",
       "       Z_         6\n",
       "Length: 79222, dtype: int64"
      ]
     },
     "execution_count": 24,
     "metadata": {},
     "output_type": "execute_result"
    }
   ],
   "source": [
    "data_2019_01 = data_2019_df.groupby(by = ['연령대코드', '주상병코드'])\n",
    "data_2019_01.size()"
   ]
  },
  {
   "cell_type": "code",
   "execution_count": 25,
   "id": "783281bc",
   "metadata": {},
   "outputs": [
    {
     "data": {
      "text/plain": [
       "연령대코드\n",
       "1      975520\n",
       "2      674510\n",
       "3      361001\n",
       "4      344120\n",
       "5      361527\n",
       "6      451349\n",
       "7      493883\n",
       "8      650838\n",
       "9      657625\n",
       "10     822247\n",
       "11     962494\n",
       "12    1142160\n",
       "13    1257824\n",
       "14    1095067\n",
       "15    1018216\n",
       "16     937515\n",
       "17     628376\n",
       "18     344073\n",
       "Name: 주상병코드, dtype: int64"
      ]
     },
     "execution_count": 25,
     "metadata": {},
     "output_type": "execute_result"
    }
   ],
   "source": [
    "data_2019_df.groupby(by = ['연령대코드'])['주상병코드'].size()"
   ]
  },
  {
   "cell_type": "code",
   "execution_count": 31,
   "id": "fc3f299e",
   "metadata": {
    "scrolled": false
   },
   "outputs": [
    {
     "data": {
      "text/html": [
       "<div>\n",
       "<style scoped>\n",
       "    .dataframe tbody tr th:only-of-type {\n",
       "        vertical-align: middle;\n",
       "    }\n",
       "\n",
       "    .dataframe tbody tr th {\n",
       "        vertical-align: top;\n",
       "    }\n",
       "\n",
       "    .dataframe thead th {\n",
       "        text-align: right;\n",
       "    }\n",
       "</style>\n",
       "<table border=\"1\" class=\"dataframe\">\n",
       "  <thead>\n",
       "    <tr style=\"text-align: right;\">\n",
       "      <th></th>\n",
       "      <th>성별코드</th>\n",
       "      <th>연령대코드</th>\n",
       "      <th>시도코드</th>\n",
       "      <th>진료과목코드</th>\n",
       "      <th>주상병코드</th>\n",
       "      <th>부상병코드</th>\n",
       "    </tr>\n",
       "  </thead>\n",
       "  <tbody>\n",
       "    <tr>\n",
       "      <th>0</th>\n",
       "      <td>2</td>\n",
       "      <td>12</td>\n",
       "      <td>46</td>\n",
       "      <td>5</td>\n",
       "      <td>M751</td>\n",
       "      <td>M750</td>\n",
       "    </tr>\n",
       "    <tr>\n",
       "      <th>1</th>\n",
       "      <td>2</td>\n",
       "      <td>12</td>\n",
       "      <td>46</td>\n",
       "      <td>1</td>\n",
       "      <td>E1164</td>\n",
       "      <td>N308</td>\n",
       "    </tr>\n",
       "    <tr>\n",
       "      <th>2</th>\n",
       "      <td>2</td>\n",
       "      <td>12</td>\n",
       "      <td>46</td>\n",
       "      <td>1</td>\n",
       "      <td>N308</td>\n",
       "      <td>E1164</td>\n",
       "    </tr>\n",
       "    <tr>\n",
       "      <th>3</th>\n",
       "      <td>2</td>\n",
       "      <td>12</td>\n",
       "      <td>46</td>\n",
       "      <td>1</td>\n",
       "      <td>E1164</td>\n",
       "      <td>N308</td>\n",
       "    </tr>\n",
       "    <tr>\n",
       "      <th>4</th>\n",
       "      <td>2</td>\n",
       "      <td>12</td>\n",
       "      <td>46</td>\n",
       "      <td>13</td>\n",
       "      <td>H6531</td>\n",
       "      <td>J303</td>\n",
       "    </tr>\n",
       "  </tbody>\n",
       "</table>\n",
       "</div>"
      ],
      "text/plain": [
       "   성별코드  연령대코드  시도코드  진료과목코드  주상병코드  부상병코드\n",
       "0     2     12    46       5   M751   M750\n",
       "1     2     12    46       1  E1164   N308\n",
       "2     2     12    46       1   N308  E1164\n",
       "3     2     12    46       1  E1164   N308\n",
       "4     2     12    46      13  H6531   J303"
      ]
     },
     "execution_count": 31,
     "metadata": {},
     "output_type": "execute_result"
    }
   ],
   "source": [
    "data_1920 = pd.concat([data_2019_df, data_2020_df])\n",
    "data_1920.head()"
   ]
  },
  {
   "cell_type": "markdown",
   "id": "41963a3a",
   "metadata": {},
   "source": [
    "## 원하는 컬럼에서 원하는 연령대 뽑아보기"
   ]
  },
  {
   "cell_type": "code",
   "execution_count": 26,
   "id": "a1f604a7",
   "metadata": {},
   "outputs": [],
   "source": [
    "from collections import Counter"
   ]
  },
  {
   "cell_type": "code",
   "execution_count": 28,
   "id": "7b63c5b9",
   "metadata": {},
   "outputs": [
    {
     "data": {
      "text/html": [
       "<div>\n",
       "<style scoped>\n",
       "    .dataframe tbody tr th:only-of-type {\n",
       "        vertical-align: middle;\n",
       "    }\n",
       "\n",
       "    .dataframe tbody tr th {\n",
       "        vertical-align: top;\n",
       "    }\n",
       "\n",
       "    .dataframe thead th {\n",
       "        text-align: right;\n",
       "    }\n",
       "</style>\n",
       "<table border=\"1\" class=\"dataframe\">\n",
       "  <thead>\n",
       "    <tr style=\"text-align: right;\">\n",
       "      <th></th>\n",
       "      <th>성별코드</th>\n",
       "      <th>연령대코드</th>\n",
       "      <th>시도코드</th>\n",
       "      <th>진료과목코드</th>\n",
       "      <th>주상병코드</th>\n",
       "    </tr>\n",
       "  </thead>\n",
       "  <tbody>\n",
       "    <tr>\n",
       "      <th>219</th>\n",
       "      <td>1</td>\n",
       "      <td>11</td>\n",
       "      <td>41</td>\n",
       "      <td>5</td>\n",
       "      <td>S336</td>\n",
       "    </tr>\n",
       "    <tr>\n",
       "      <th>220</th>\n",
       "      <td>1</td>\n",
       "      <td>11</td>\n",
       "      <td>41</td>\n",
       "      <td>13</td>\n",
       "      <td>J00</td>\n",
       "    </tr>\n",
       "    <tr>\n",
       "      <th>221</th>\n",
       "      <td>1</td>\n",
       "      <td>11</td>\n",
       "      <td>41</td>\n",
       "      <td>23</td>\n",
       "      <td>J0391</td>\n",
       "    </tr>\n",
       "    <tr>\n",
       "      <th>222</th>\n",
       "      <td>1</td>\n",
       "      <td>11</td>\n",
       "      <td>41</td>\n",
       "      <td>5</td>\n",
       "      <td>S7318</td>\n",
       "    </tr>\n",
       "    <tr>\n",
       "      <th>223</th>\n",
       "      <td>1</td>\n",
       "      <td>11</td>\n",
       "      <td>41</td>\n",
       "      <td>5</td>\n",
       "      <td>S637</td>\n",
       "    </tr>\n",
       "  </tbody>\n",
       "</table>\n",
       "</div>"
      ],
      "text/plain": [
       "     성별코드  연령대코드  시도코드  진료과목코드  주상병코드\n",
       "219     1     11    41       5   S336\n",
       "220     1     11    41      13    J00\n",
       "221     1     11    41      23  J0391\n",
       "222     1     11    41       5  S7318\n",
       "223     1     11    41       5   S637"
      ]
     },
     "execution_count": 28,
     "metadata": {},
     "output_type": "execute_result"
    }
   ],
   "source": [
    "condition = data_df['연령대코드'] == 11\n",
    "age_11 = data_df[condition]\n",
    "age_11.head()"
   ]
  },
  {
   "cell_type": "code",
   "execution_count": 29,
   "id": "2dc4fddd",
   "metadata": {},
   "outputs": [
    {
     "data": {
      "text/plain": [
       "[('I109', 130126),\n",
       " ('J209', 67812),\n",
       " ('F_', 52255),\n",
       " ('N_', 51602),\n",
       " ('E119', 47820),\n",
       " ('K210', 24571),\n",
       " ('N185', 22571),\n",
       " ('M511', 22381),\n",
       " ('M750', 19390),\n",
       " ('L239', 18712),\n",
       " ('M5456', 18532),\n",
       " ('M771', 18139),\n",
       " ('M751', 17044),\n",
       " ('S3350', 16845),\n",
       " ('M501', 15253),\n",
       " ('J304', 14915),\n",
       " ('M170', 14845),\n",
       " ('M5422', 14767),\n",
       " ('K219', 14727),\n",
       " ('C_', 14022),\n",
       " ('J0390', 13772),\n",
       " ('B_', 13661),\n",
       " ('H0411', 13333),\n",
       " ('J029', 12743),\n",
       " ('J060', 12233),\n",
       " ('E785', 11052),\n",
       " ('J40', 10715),\n",
       " ('N300', 10622),\n",
       " ('B351', 10611),\n",
       " ('M4806', 10439)]"
      ]
     },
     "execution_count": 29,
     "metadata": {},
     "output_type": "execute_result"
    }
   ],
   "source": [
    "from collections import Counter\n",
    "\n",
    "age_11_total = Counter(age_11['주상병코드'])\n",
    "age_11_total.most_common(30)"
   ]
  },
  {
   "cell_type": "code",
   "execution_count": 30,
   "id": "2e9f3a4f",
   "metadata": {},
   "outputs": [],
   "source": [
    "age_11_count = age_11_total.most_common(30)"
   ]
  },
  {
   "cell_type": "code",
   "execution_count": 31,
   "id": "90766ecd",
   "metadata": {},
   "outputs": [],
   "source": [
    "age_11_df = pd.DataFrame(age_11_count, columns=['주상병코드', '빈도수'])"
   ]
  },
  {
   "cell_type": "code",
   "execution_count": 68,
   "id": "26abfcfd",
   "metadata": {},
   "outputs": [],
   "source": [
    "# age_11_df.to_excel('./data/aged_11.xlsx', index=False)"
   ]
  },
  {
   "cell_type": "code",
   "execution_count": 32,
   "id": "6edcf3f2",
   "metadata": {},
   "outputs": [
    {
     "data": {
      "text/html": [
       "<div>\n",
       "<style scoped>\n",
       "    .dataframe tbody tr th:only-of-type {\n",
       "        vertical-align: middle;\n",
       "    }\n",
       "\n",
       "    .dataframe tbody tr th {\n",
       "        vertical-align: top;\n",
       "    }\n",
       "\n",
       "    .dataframe thead th {\n",
       "        text-align: right;\n",
       "    }\n",
       "</style>\n",
       "<table border=\"1\" class=\"dataframe\">\n",
       "  <thead>\n",
       "    <tr style=\"text-align: right;\">\n",
       "      <th></th>\n",
       "      <th>성별코드</th>\n",
       "      <th>연령대코드</th>\n",
       "      <th>시도코드</th>\n",
       "      <th>진료과목코드</th>\n",
       "      <th>주상병코드</th>\n",
       "    </tr>\n",
       "  </thead>\n",
       "  <tbody>\n",
       "    <tr>\n",
       "      <th>0</th>\n",
       "      <td>2</td>\n",
       "      <td>12</td>\n",
       "      <td>46</td>\n",
       "      <td>5</td>\n",
       "      <td>M751</td>\n",
       "    </tr>\n",
       "    <tr>\n",
       "      <th>1</th>\n",
       "      <td>2</td>\n",
       "      <td>12</td>\n",
       "      <td>46</td>\n",
       "      <td>1</td>\n",
       "      <td>E1164</td>\n",
       "    </tr>\n",
       "    <tr>\n",
       "      <th>2</th>\n",
       "      <td>2</td>\n",
       "      <td>12</td>\n",
       "      <td>46</td>\n",
       "      <td>1</td>\n",
       "      <td>N308</td>\n",
       "    </tr>\n",
       "    <tr>\n",
       "      <th>3</th>\n",
       "      <td>2</td>\n",
       "      <td>12</td>\n",
       "      <td>46</td>\n",
       "      <td>1</td>\n",
       "      <td>E1164</td>\n",
       "    </tr>\n",
       "    <tr>\n",
       "      <th>4</th>\n",
       "      <td>2</td>\n",
       "      <td>12</td>\n",
       "      <td>46</td>\n",
       "      <td>13</td>\n",
       "      <td>H6531</td>\n",
       "    </tr>\n",
       "  </tbody>\n",
       "</table>\n",
       "</div>"
      ],
      "text/plain": [
       "   성별코드  연령대코드  시도코드  진료과목코드  주상병코드\n",
       "0     2     12    46       5   M751\n",
       "1     2     12    46       1  E1164\n",
       "2     2     12    46       1   N308\n",
       "3     2     12    46       1  E1164\n",
       "4     2     12    46      13  H6531"
      ]
     },
     "execution_count": 32,
     "metadata": {},
     "output_type": "execute_result"
    }
   ],
   "source": [
    "condition = data_df['연령대코드'] == 12\n",
    "age_12 = data_df[condition]\n",
    "age_12.head()"
   ]
  },
  {
   "cell_type": "code",
   "execution_count": 33,
   "id": "ac27aff8",
   "metadata": {},
   "outputs": [
    {
     "data": {
      "text/plain": [
       "[('I109', 189099),\n",
       " ('J209', 73525),\n",
       " ('E119', 66715),\n",
       " ('F_', 56418),\n",
       " ('N_', 37444),\n",
       " ('M170', 32599),\n",
       " ('N185', 31974),\n",
       " ('K210', 28056),\n",
       " ('M511', 27982),\n",
       " ('M5456', 22983),\n",
       " ('L239', 20955),\n",
       " ('M4806', 20602),\n",
       " ('M751', 20282),\n",
       " ('M750', 20215),\n",
       " ('S3350', 17384),\n",
       " ('K219', 17291),\n",
       " ('M501', 16325),\n",
       " ('E785', 15983),\n",
       " ('H0411', 15462),\n",
       " ('J304', 14637),\n",
       " ('M771', 14422),\n",
       " ('J0390', 14157),\n",
       " ('M171', 13929),\n",
       " ('C_', 13680),\n",
       " ('J029', 13464),\n",
       " ('M5422', 13459),\n",
       " ('J060', 12899),\n",
       " ('E118', 12867),\n",
       " ('B_', 12274),\n",
       " ('B351', 12203)]"
      ]
     },
     "execution_count": 33,
     "metadata": {},
     "output_type": "execute_result"
    }
   ],
   "source": [
    "from collections import Counter\n",
    "\n",
    "age_12_total = Counter(age_12['주상병코드'])\n",
    "age_12_total.most_common(30)"
   ]
  },
  {
   "cell_type": "code",
   "execution_count": 34,
   "id": "1429ea00",
   "metadata": {},
   "outputs": [],
   "source": [
    "age_12_count = age_12_total.most_common(30)"
   ]
  },
  {
   "cell_type": "code",
   "execution_count": 35,
   "id": "47d1604a",
   "metadata": {},
   "outputs": [],
   "source": [
    "age_12_df = pd.DataFrame(age_12_count, columns=['주상병코드', '빈도수'])"
   ]
  },
  {
   "cell_type": "code",
   "execution_count": 48,
   "id": "9b7cedba",
   "metadata": {},
   "outputs": [],
   "source": [
    "# age_12_df.to_excel('./data/age_12.xlsx', index=False)"
   ]
  },
  {
   "cell_type": "code",
   "execution_count": 36,
   "id": "614f7095",
   "metadata": {},
   "outputs": [
    {
     "data": {
      "text/html": [
       "<div>\n",
       "<style scoped>\n",
       "    .dataframe tbody tr th:only-of-type {\n",
       "        vertical-align: middle;\n",
       "    }\n",
       "\n",
       "    .dataframe tbody tr th {\n",
       "        vertical-align: top;\n",
       "    }\n",
       "\n",
       "    .dataframe thead th {\n",
       "        text-align: right;\n",
       "    }\n",
       "</style>\n",
       "<table border=\"1\" class=\"dataframe\">\n",
       "  <thead>\n",
       "    <tr style=\"text-align: right;\">\n",
       "      <th></th>\n",
       "      <th>성별코드</th>\n",
       "      <th>연령대코드</th>\n",
       "      <th>시도코드</th>\n",
       "      <th>진료과목코드</th>\n",
       "      <th>주상병코드</th>\n",
       "    </tr>\n",
       "  </thead>\n",
       "  <tbody>\n",
       "    <tr>\n",
       "      <th>73</th>\n",
       "      <td>1</td>\n",
       "      <td>13</td>\n",
       "      <td>26</td>\n",
       "      <td>1</td>\n",
       "      <td>J40</td>\n",
       "    </tr>\n",
       "    <tr>\n",
       "      <th>74</th>\n",
       "      <td>1</td>\n",
       "      <td>13</td>\n",
       "      <td>26</td>\n",
       "      <td>4</td>\n",
       "      <td>E042</td>\n",
       "    </tr>\n",
       "    <tr>\n",
       "      <th>75</th>\n",
       "      <td>1</td>\n",
       "      <td>13</td>\n",
       "      <td>26</td>\n",
       "      <td>12</td>\n",
       "      <td>H0204</td>\n",
       "    </tr>\n",
       "    <tr>\n",
       "      <th>76</th>\n",
       "      <td>1</td>\n",
       "      <td>13</td>\n",
       "      <td>26</td>\n",
       "      <td>1</td>\n",
       "      <td>J40</td>\n",
       "    </tr>\n",
       "    <tr>\n",
       "      <th>77</th>\n",
       "      <td>1</td>\n",
       "      <td>13</td>\n",
       "      <td>26</td>\n",
       "      <td>1</td>\n",
       "      <td>K2531</td>\n",
       "    </tr>\n",
       "  </tbody>\n",
       "</table>\n",
       "</div>"
      ],
      "text/plain": [
       "    성별코드  연령대코드  시도코드  진료과목코드  주상병코드\n",
       "73     1     13    26       1    J40\n",
       "74     1     13    26       4   E042\n",
       "75     1     13    26      12  H0204\n",
       "76     1     13    26       1    J40\n",
       "77     1     13    26       1  K2531"
      ]
     },
     "execution_count": 36,
     "metadata": {},
     "output_type": "execute_result"
    }
   ],
   "source": [
    "condition = data_df['연령대코드'] == 13\n",
    "age_13 = data_df[condition]\n",
    "age_13.head()"
   ]
  },
  {
   "cell_type": "code",
   "execution_count": 37,
   "id": "4fd8043b",
   "metadata": {},
   "outputs": [
    {
     "data": {
      "text/plain": [
       "[('I109', 235201),\n",
       " ('E119', 77857),\n",
       " ('J209', 76631),\n",
       " ('F_', 62748),\n",
       " ('M170', 51882),\n",
       " ('M4806', 36599),\n",
       " ('N185', 34514),\n",
       " ('K210', 33447),\n",
       " ('M511', 31088),\n",
       " ('N_', 27082),\n",
       " ('M5456', 26544),\n",
       " ('M751', 22052),\n",
       " ('L239', 21436),\n",
       " ('M171', 20827),\n",
       " ('K219', 19521),\n",
       " ('M750', 19483),\n",
       " ('E785', 17902),\n",
       " ('N400', 17538),\n",
       " ('S3350', 17389),\n",
       " ('H0411', 16610),\n",
       " ('M501', 16400),\n",
       " ('E118', 15570),\n",
       " ('M179', 14791),\n",
       " ('J304', 13867),\n",
       " ('J40', 13626),\n",
       " ('J029', 12969),\n",
       " ('J0390', 12936),\n",
       " ('J060', 12623),\n",
       " ('C_', 12586),\n",
       " ('B351', 12308)]"
      ]
     },
     "execution_count": 37,
     "metadata": {},
     "output_type": "execute_result"
    }
   ],
   "source": [
    "age_13_total = Counter(age_13['주상병코드'])\n",
    "age_13_total.most_common(30)"
   ]
  },
  {
   "cell_type": "code",
   "execution_count": 38,
   "id": "8a3e1ab9",
   "metadata": {},
   "outputs": [],
   "source": [
    "age_13_count = age_13_total.most_common(30)"
   ]
  },
  {
   "cell_type": "code",
   "execution_count": 39,
   "id": "4d204eea",
   "metadata": {},
   "outputs": [],
   "source": [
    "age_13_df = pd.DataFrame(age_13_count, columns=['주상병코드', '빈도수'])"
   ]
  },
  {
   "cell_type": "code",
   "execution_count": 53,
   "id": "8fae7b95",
   "metadata": {},
   "outputs": [],
   "source": [
    "# age_13_df.to_excel('./data/age_13.xlsx', index=False)"
   ]
  },
  {
   "cell_type": "code",
   "execution_count": 40,
   "id": "b812a2b8",
   "metadata": {},
   "outputs": [
    {
     "data": {
      "text/html": [
       "<div>\n",
       "<style scoped>\n",
       "    .dataframe tbody tr th:only-of-type {\n",
       "        vertical-align: middle;\n",
       "    }\n",
       "\n",
       "    .dataframe tbody tr th {\n",
       "        vertical-align: top;\n",
       "    }\n",
       "\n",
       "    .dataframe thead th {\n",
       "        text-align: right;\n",
       "    }\n",
       "</style>\n",
       "<table border=\"1\" class=\"dataframe\">\n",
       "  <thead>\n",
       "    <tr style=\"text-align: right;\">\n",
       "      <th></th>\n",
       "      <th>성별코드</th>\n",
       "      <th>연령대코드</th>\n",
       "      <th>시도코드</th>\n",
       "      <th>진료과목코드</th>\n",
       "      <th>주상병코드</th>\n",
       "    </tr>\n",
       "  </thead>\n",
       "  <tbody>\n",
       "    <tr>\n",
       "      <th>229</th>\n",
       "      <td>2</td>\n",
       "      <td>14</td>\n",
       "      <td>41</td>\n",
       "      <td>6</td>\n",
       "      <td>M511</td>\n",
       "    </tr>\n",
       "    <tr>\n",
       "      <th>230</th>\n",
       "      <td>2</td>\n",
       "      <td>14</td>\n",
       "      <td>41</td>\n",
       "      <td>14</td>\n",
       "      <td>R232</td>\n",
       "    </tr>\n",
       "    <tr>\n",
       "      <th>231</th>\n",
       "      <td>2</td>\n",
       "      <td>14</td>\n",
       "      <td>41</td>\n",
       "      <td>12</td>\n",
       "      <td>H103</td>\n",
       "    </tr>\n",
       "    <tr>\n",
       "      <th>232</th>\n",
       "      <td>2</td>\n",
       "      <td>14</td>\n",
       "      <td>41</td>\n",
       "      <td>14</td>\n",
       "      <td>R232</td>\n",
       "    </tr>\n",
       "    <tr>\n",
       "      <th>233</th>\n",
       "      <td>2</td>\n",
       "      <td>14</td>\n",
       "      <td>41</td>\n",
       "      <td>21</td>\n",
       "      <td>M502</td>\n",
       "    </tr>\n",
       "  </tbody>\n",
       "</table>\n",
       "</div>"
      ],
      "text/plain": [
       "     성별코드  연령대코드  시도코드  진료과목코드 주상병코드\n",
       "229     2     14    41       6  M511\n",
       "230     2     14    41      14  R232\n",
       "231     2     14    41      12  H103\n",
       "232     2     14    41      14  R232\n",
       "233     2     14    41      21  M502"
      ]
     },
     "execution_count": 40,
     "metadata": {},
     "output_type": "execute_result"
    }
   ],
   "source": [
    "condition = data_df['연령대코드'] == 14\n",
    "age_14 = data_df[condition]\n",
    "age_14.head()"
   ]
  },
  {
   "cell_type": "code",
   "execution_count": 41,
   "id": "4cace430",
   "metadata": {},
   "outputs": [
    {
     "data": {
      "text/plain": [
       "[('I109', 214517),\n",
       " ('E119', 67757),\n",
       " ('J209', 63102),\n",
       " ('M170', 60053),\n",
       " ('F_', 56135),\n",
       " ('M4806', 48061),\n",
       " ('N185', 36391),\n",
       " ('M5456', 28926),\n",
       " ('M511', 27860),\n",
       " ('K210', 26186),\n",
       " ('M171', 23201),\n",
       " ('N400', 20465),\n",
       " ('M751', 18302),\n",
       " ('L239', 18092),\n",
       " ('M750', 17095),\n",
       " ('K219', 16937),\n",
       " ('M179', 16624),\n",
       " ('H0411', 14592),\n",
       " ('S3350', 14207),\n",
       " ('N_', 13917),\n",
       " ('E118', 13709),\n",
       " ('E785', 13590),\n",
       " ('J40', 11955),\n",
       " ('M501', 11674),\n",
       " ('J304', 11115),\n",
       " ('J00', 10618),\n",
       " ('M5422', 10493),\n",
       " ('K297', 10346),\n",
       " ('J029', 10283),\n",
       " ('J060', 10207)]"
      ]
     },
     "execution_count": 41,
     "metadata": {},
     "output_type": "execute_result"
    }
   ],
   "source": [
    "age_14_total = Counter(age_14['주상병코드'])\n",
    "age_14_total.most_common(30)"
   ]
  },
  {
   "cell_type": "code",
   "execution_count": 42,
   "id": "59054f08",
   "metadata": {},
   "outputs": [],
   "source": [
    "age_14_count = age_14_total.most_common(30)"
   ]
  },
  {
   "cell_type": "code",
   "execution_count": 43,
   "id": "ed8adb45",
   "metadata": {},
   "outputs": [],
   "source": [
    "age_14_df = pd.DataFrame(age_14_count, columns=['주상병코드', '빈도수'])"
   ]
  },
  {
   "cell_type": "code",
   "execution_count": 62,
   "id": "1a1b5e58",
   "metadata": {},
   "outputs": [],
   "source": [
    "age_14_df.to_excel('./data/age_14.xlsx', index=False)"
   ]
  },
  {
   "cell_type": "code",
   "execution_count": null,
   "id": "46021bf2",
   "metadata": {},
   "outputs": [],
   "source": []
  },
  {
   "cell_type": "markdown",
   "id": "d07bdce8",
   "metadata": {},
   "source": [
    "# 지역별 병의원 데이터 전처리"
   ]
  },
  {
   "cell_type": "code",
   "execution_count": 44,
   "id": "63670b3d",
   "metadata": {
    "scrolled": true
   },
   "outputs": [
    {
     "data": {
      "text/html": [
       "<div>\n",
       "<style scoped>\n",
       "    .dataframe tbody tr th:only-of-type {\n",
       "        vertical-align: middle;\n",
       "    }\n",
       "\n",
       "    .dataframe tbody tr th {\n",
       "        vertical-align: top;\n",
       "    }\n",
       "\n",
       "    .dataframe thead th {\n",
       "        text-align: right;\n",
       "    }\n",
       "</style>\n",
       "<table border=\"1\" class=\"dataframe\">\n",
       "  <thead>\n",
       "    <tr style=\"text-align: right;\">\n",
       "      <th></th>\n",
       "      <th>번호</th>\n",
       "      <th>개방서비스명</th>\n",
       "      <th>개방서비스아이디</th>\n",
       "      <th>개방자치단체코드</th>\n",
       "      <th>관리번호</th>\n",
       "      <th>인허가일자</th>\n",
       "      <th>인허가취소일자</th>\n",
       "      <th>영업상태구분코드</th>\n",
       "      <th>영업상태명</th>\n",
       "      <th>상세영업상태코드</th>\n",
       "      <th>...</th>\n",
       "      <th>지정취소일자</th>\n",
       "      <th>완화의료지정형태</th>\n",
       "      <th>완화의료담당부서명</th>\n",
       "      <th>구급차특수</th>\n",
       "      <th>구급차일반</th>\n",
       "      <th>총인원</th>\n",
       "      <th>구조사수</th>\n",
       "      <th>허가병상수</th>\n",
       "      <th>최초지정일자</th>\n",
       "      <th>Unnamed: 44</th>\n",
       "    </tr>\n",
       "  </thead>\n",
       "  <tbody>\n",
       "    <tr>\n",
       "      <th>0</th>\n",
       "      <td>1</td>\n",
       "      <td>병원</td>\n",
       "      <td>01_01_01_P</td>\n",
       "      <td>5530000</td>\n",
       "      <td>PHMA220115530021021200002</td>\n",
       "      <td>20110221</td>\n",
       "      <td>NaN</td>\n",
       "      <td>2</td>\n",
       "      <td>휴업</td>\n",
       "      <td>02</td>\n",
       "      <td>...</td>\n",
       "      <td>NaN</td>\n",
       "      <td>NaN</td>\n",
       "      <td>NaN</td>\n",
       "      <td>0.0</td>\n",
       "      <td>0.0</td>\n",
       "      <td>NaN</td>\n",
       "      <td>NaN</td>\n",
       "      <td>0.0</td>\n",
       "      <td>NaN</td>\n",
       "      <td>NaN</td>\n",
       "    </tr>\n",
       "    <tr>\n",
       "      <th>1</th>\n",
       "      <td>2</td>\n",
       "      <td>병원</td>\n",
       "      <td>01_01_01_P</td>\n",
       "      <td>5710000</td>\n",
       "      <td>PHMA220185710109021200001</td>\n",
       "      <td>20180601</td>\n",
       "      <td>NaN</td>\n",
       "      <td>2</td>\n",
       "      <td>휴업</td>\n",
       "      <td>02</td>\n",
       "      <td>...</td>\n",
       "      <td>NaN</td>\n",
       "      <td>NaN</td>\n",
       "      <td>NaN</td>\n",
       "      <td>0.0</td>\n",
       "      <td>0.0</td>\n",
       "      <td>NaN</td>\n",
       "      <td>NaN</td>\n",
       "      <td>0.0</td>\n",
       "      <td>NaN</td>\n",
       "      <td>NaN</td>\n",
       "    </tr>\n",
       "    <tr>\n",
       "      <th>2</th>\n",
       "      <td>3</td>\n",
       "      <td>병원</td>\n",
       "      <td>01_01_01_P</td>\n",
       "      <td>4430000</td>\n",
       "      <td>PHMA220084430014021200003</td>\n",
       "      <td>20080414</td>\n",
       "      <td>NaN</td>\n",
       "      <td>2</td>\n",
       "      <td>휴업</td>\n",
       "      <td>02</td>\n",
       "      <td>...</td>\n",
       "      <td>NaN</td>\n",
       "      <td>NaN</td>\n",
       "      <td>NaN</td>\n",
       "      <td>0.0</td>\n",
       "      <td>0.0</td>\n",
       "      <td>NaN</td>\n",
       "      <td>NaN</td>\n",
       "      <td>0.0</td>\n",
       "      <td>NaN</td>\n",
       "      <td>NaN</td>\n",
       "    </tr>\n",
       "    <tr>\n",
       "      <th>3</th>\n",
       "      <td>4</td>\n",
       "      <td>병원</td>\n",
       "      <td>01_01_01_P</td>\n",
       "      <td>4470000</td>\n",
       "      <td>PHMA220164470017021200001</td>\n",
       "      <td>20160325</td>\n",
       "      <td>NaN</td>\n",
       "      <td>2</td>\n",
       "      <td>휴업</td>\n",
       "      <td>02</td>\n",
       "      <td>...</td>\n",
       "      <td>NaN</td>\n",
       "      <td>NaN</td>\n",
       "      <td>NaN</td>\n",
       "      <td>0.0</td>\n",
       "      <td>0.0</td>\n",
       "      <td>NaN</td>\n",
       "      <td>NaN</td>\n",
       "      <td>0.0</td>\n",
       "      <td>NaN</td>\n",
       "      <td>NaN</td>\n",
       "    </tr>\n",
       "    <tr>\n",
       "      <th>4</th>\n",
       "      <td>5</td>\n",
       "      <td>병원</td>\n",
       "      <td>01_01_01_P</td>\n",
       "      <td>5580000</td>\n",
       "      <td>PHMA220105580013021200001</td>\n",
       "      <td>20100507</td>\n",
       "      <td>NaN</td>\n",
       "      <td>2</td>\n",
       "      <td>휴업</td>\n",
       "      <td>02</td>\n",
       "      <td>...</td>\n",
       "      <td>NaN</td>\n",
       "      <td>NaN</td>\n",
       "      <td>NaN</td>\n",
       "      <td>0.0</td>\n",
       "      <td>0.0</td>\n",
       "      <td>NaN</td>\n",
       "      <td>NaN</td>\n",
       "      <td>0.0</td>\n",
       "      <td>NaN</td>\n",
       "      <td>NaN</td>\n",
       "    </tr>\n",
       "  </tbody>\n",
       "</table>\n",
       "<p>5 rows × 45 columns</p>\n",
       "</div>"
      ],
      "text/plain": [
       "   번호 개방서비스명    개방서비스아이디  개방자치단체코드                       관리번호     인허가일자  \\\n",
       "0   1     병원  01_01_01_P   5530000  PHMA220115530021021200002  20110221   \n",
       "1   2     병원  01_01_01_P   5710000  PHMA220185710109021200001  20180601   \n",
       "2   3     병원  01_01_01_P   4430000  PHMA220084430014021200003  20080414   \n",
       "3   4     병원  01_01_01_P   4470000  PHMA220164470017021200001  20160325   \n",
       "4   5     병원  01_01_01_P   5580000  PHMA220105580013021200001  20100507   \n",
       "\n",
       "   인허가취소일자  영업상태구분코드 영업상태명 상세영업상태코드  ... 지정취소일자  완화의료지정형태  완화의료담당부서명  구급차특수  \\\n",
       "0      NaN         2    휴업       02  ...    NaN       NaN        NaN    0.0   \n",
       "1      NaN         2    휴업       02  ...    NaN       NaN        NaN    0.0   \n",
       "2      NaN         2    휴업       02  ...    NaN       NaN        NaN    0.0   \n",
       "3      NaN         2    휴업       02  ...    NaN       NaN        NaN    0.0   \n",
       "4      NaN         2    휴업       02  ...    NaN       NaN        NaN    0.0   \n",
       "\n",
       "   구급차일반 총인원  구조사수 허가병상수 최초지정일자 Unnamed: 44  \n",
       "0    0.0 NaN   NaN   0.0    NaN         NaN  \n",
       "1    0.0 NaN   NaN   0.0    NaN         NaN  \n",
       "2    0.0 NaN   NaN   0.0    NaN         NaN  \n",
       "3    0.0 NaN   NaN   0.0    NaN         NaN  \n",
       "4    0.0 NaN   NaN   0.0    NaN         NaN  \n",
       "\n",
       "[5 rows x 45 columns]"
      ]
     },
     "execution_count": 44,
     "metadata": {},
     "output_type": "execute_result"
    }
   ],
   "source": [
    "# 데이터 호출\n",
    "hos = pd.read_csv('./data/전국병원정보/fulldata_01_01_01_P_병원.csv', encoding='cp949')\n",
    "hos.head()"
   ]
  },
  {
   "cell_type": "code",
   "execution_count": 45,
   "id": "b81f68bd",
   "metadata": {},
   "outputs": [
    {
     "data": {
      "text/html": [
       "<div>\n",
       "<style scoped>\n",
       "    .dataframe tbody tr th:only-of-type {\n",
       "        vertical-align: middle;\n",
       "    }\n",
       "\n",
       "    .dataframe tbody tr th {\n",
       "        vertical-align: top;\n",
       "    }\n",
       "\n",
       "    .dataframe thead th {\n",
       "        text-align: right;\n",
       "    }\n",
       "</style>\n",
       "<table border=\"1\" class=\"dataframe\">\n",
       "  <thead>\n",
       "    <tr style=\"text-align: right;\">\n",
       "      <th></th>\n",
       "      <th>영업상태명</th>\n",
       "      <th>도로명전체주소</th>\n",
       "      <th>사업장명</th>\n",
       "      <th>좌표정보(x)</th>\n",
       "      <th>좌표정보(y)</th>\n",
       "      <th>의료기관종별명</th>\n",
       "      <th>진료과목내용</th>\n",
       "      <th>진료과목내용명</th>\n",
       "    </tr>\n",
       "  </thead>\n",
       "  <tbody>\n",
       "    <tr>\n",
       "      <th>0</th>\n",
       "      <td>휴업</td>\n",
       "      <td>경기도 화성시 팔탄면 온천로 29</td>\n",
       "      <td>의료법인 화성의료재단 화성제일병원</td>\n",
       "      <td>187458.013247</td>\n",
       "      <td>402973.650082</td>\n",
       "      <td>병원</td>\n",
       "      <td>120 113 104</td>\n",
       "      <td>외과, 이비인후과, 재활의학과</td>\n",
       "    </tr>\n",
       "    <tr>\n",
       "      <th>1</th>\n",
       "      <td>휴업</td>\n",
       "      <td>충청북도 청주시 청원구 내수읍 마산길 8-11</td>\n",
       "      <td>의료법인홍익의료재단파스카요양병원</td>\n",
       "      <td>248074.000000</td>\n",
       "      <td>357472.000000</td>\n",
       "      <td>요양병원(일반요양병원)</td>\n",
       "      <td>122</td>\n",
       "      <td>가정의학과</td>\n",
       "    </tr>\n",
       "    <tr>\n",
       "      <th>2</th>\n",
       "      <td>휴업</td>\n",
       "      <td>충청북도 옥천군 옥천읍 중앙로 72</td>\n",
       "      <td>의료법인건우의료재단큰사랑요양병원</td>\n",
       "      <td>251194.421742</td>\n",
       "      <td>311546.395897</td>\n",
       "      <td>요양병원(일반요양병원)</td>\n",
       "      <td>122 104 120 115 301</td>\n",
       "      <td>외과, 비뇨의학과, 재활의학과, 가정의학과, 한방내과</td>\n",
       "    </tr>\n",
       "    <tr>\n",
       "      <th>3</th>\n",
       "      <td>휴업</td>\n",
       "      <td>충청북도 음성군 감곡면 장감로 118-1</td>\n",
       "      <td>의료법인 청미의료재단 청미요양병원</td>\n",
       "      <td>256423.100993</td>\n",
       "      <td>402026.479805</td>\n",
       "      <td>요양병원(일반요양병원)</td>\n",
       "      <td>122 105 101</td>\n",
       "      <td>내과, 정형외과, 가정의학과</td>\n",
       "    </tr>\n",
       "    <tr>\n",
       "      <th>4</th>\n",
       "      <td>휴업</td>\n",
       "      <td>충청남도 계룡시 계룡대로 295 (금암동)</td>\n",
       "      <td>의료법인 계룡의료재단 계룡병원</td>\n",
       "      <td>223019.435125</td>\n",
       "      <td>308022.966751</td>\n",
       "      <td>병원</td>\n",
       "      <td>101 122</td>\n",
       "      <td>내과, 가정의학과</td>\n",
       "    </tr>\n",
       "  </tbody>\n",
       "</table>\n",
       "</div>"
      ],
      "text/plain": [
       "  영업상태명                    도로명전체주소                사업장명        좌표정보(x)  \\\n",
       "0    휴업         경기도 화성시 팔탄면 온천로 29  의료법인 화성의료재단 화성제일병원  187458.013247   \n",
       "1    휴업  충청북도 청주시 청원구 내수읍 마산길 8-11   의료법인홍익의료재단파스카요양병원  248074.000000   \n",
       "2    휴업        충청북도 옥천군 옥천읍 중앙로 72   의료법인건우의료재단큰사랑요양병원  251194.421742   \n",
       "3    휴업     충청북도 음성군 감곡면 장감로 118-1  의료법인 청미의료재단 청미요양병원  256423.100993   \n",
       "4    휴업    충청남도 계룡시 계룡대로 295 (금암동)    의료법인 계룡의료재단 계룡병원  223019.435125   \n",
       "\n",
       "         좌표정보(y)       의료기관종별명               진료과목내용  \\\n",
       "0  402973.650082            병원          120 113 104   \n",
       "1  357472.000000  요양병원(일반요양병원)                  122   \n",
       "2  311546.395897  요양병원(일반요양병원)  122 104 120 115 301   \n",
       "3  402026.479805  요양병원(일반요양병원)          122 105 101   \n",
       "4  308022.966751            병원              101 122   \n",
       "\n",
       "                         진료과목내용명  \n",
       "0               외과, 이비인후과, 재활의학과  \n",
       "1                          가정의학과  \n",
       "2  외과, 비뇨의학과, 재활의학과, 가정의학과, 한방내과  \n",
       "3                내과, 정형외과, 가정의학과  \n",
       "4                      내과, 가정의학과  "
      ]
     },
     "execution_count": 45,
     "metadata": {},
     "output_type": "execute_result"
    }
   ],
   "source": [
    "# 실제 사용할 열만 선택하기\n",
    "hos = hos[['영업상태명','도로명전체주소','사업장명','좌표정보(x)','좌표정보(y)','의료기관종별명','진료과목내용','진료과목내용명']]\n",
    "hos.head()"
   ]
  },
  {
   "cell_type": "code",
   "execution_count": null,
   "id": "671534f3",
   "metadata": {},
   "outputs": [],
   "source": []
  }
 ],
 "metadata": {
  "kernelspec": {
   "display_name": "Python 3 (ipykernel)",
   "language": "python",
   "name": "python3"
  },
  "language_info": {
   "codemirror_mode": {
    "name": "ipython",
    "version": 3
   },
   "file_extension": ".py",
   "mimetype": "text/x-python",
   "name": "python",
   "nbconvert_exporter": "python",
   "pygments_lexer": "ipython3",
   "version": "3.9.7"
  }
 },
 "nbformat": 4,
 "nbformat_minor": 5
}
