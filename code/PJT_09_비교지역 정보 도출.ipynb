{
 "cells": [
  {
   "cell_type": "code",
   "execution_count": 1,
   "id": "20219a7e",
   "metadata": {},
   "outputs": [],
   "source": [
    "import pandas as pd\n",
    "import numpy as np"
   ]
  },
  {
   "cell_type": "code",
   "execution_count": 2,
   "id": "2efd98b2",
   "metadata": {},
   "outputs": [],
   "source": [
    "hos_open = pd.read_excel('./data/hos_open.xlsx')"
   ]
  },
  {
   "cell_type": "code",
   "execution_count": 4,
   "id": "9aedbf16",
   "metadata": {
    "scrolled": true
   },
   "outputs": [
    {
     "data": {
      "text/plain": [
       "0        대전광역시 대덕구 동서대로1777번길 2-0, 대전웰니스병원층 (송촌동,대전웰니스병원)\n",
       "1       경상북도 경산시 경산로 174-0, A동 양지요양병원1~3층층 (옥산동,양지요양병원...\n",
       "2                           전라남도 목포시 수강로12번길 11-1 (행복동2가)\n",
       "3                          전라남도 목포시 녹색로 41,  (석현동)층 (석현동)\n",
       "4                경상북도 영주시 반지미로 275-17, 새희망병원층 (가흥동,새희망병원)\n",
       "                              ...                        \n",
       "4625                               강원도 영월군 영월읍 중앙로 10,  층\n",
       "4626                         강원도 홍천군 홍천읍 홍천로 342-10, 342층\n",
       "4627                     강원도 원주시 원문로 141- ,  (단계동)층 (단계동)\n",
       "4628                              강원도 인제군 인제읍 비봉로 19, 19층\n",
       "4629                   대전광역시 유성구 온천동로 3-0, 유성웰니스병원층 (봉명동)\n",
       "Name: 도로명전체주소, Length: 4630, dtype: object"
      ]
     },
     "execution_count": 4,
     "metadata": {},
     "output_type": "execute_result"
    }
   ],
   "source": [
    "hos_open['도로명전체주소']"
   ]
  },
  {
   "cell_type": "code",
   "execution_count": 7,
   "id": "406fb365",
   "metadata": {},
   "outputs": [
    {
     "data": {
      "text/plain": [
       "0       대전광역시 대덕구 동서대로1777번길 2-0, 대전웰니스병원층 \n",
       "1       경상북도 경산시 경산로 174-0, A동 양지요양병원1~3층층 \n",
       "2                    전라남도 목포시 수강로12번길 11-1 \n",
       "3                        전라남도 목포시 녹색로 41,  \n",
       "4             경상북도 영주시 반지미로 275-17, 새희망병원층 \n",
       "                       ...                 \n",
       "4625                 강원도 영월군 영월읍 중앙로 10,  층\n",
       "4626           강원도 홍천군 홍천읍 홍천로 342-10, 342층\n",
       "4627                   강원도 원주시 원문로 141- ,  \n",
       "4628                강원도 인제군 인제읍 비봉로 19, 19층\n",
       "4629          대전광역시 유성구 온천동로 3-0, 유성웰니스병원층 \n",
       "Name: 도로명전체주소, Length: 4630, dtype: object"
      ]
     },
     "execution_count": 7,
     "metadata": {},
     "output_type": "execute_result"
    }
   ],
   "source": [
    "address = hos_open['도로명전체주소'].str.split('(').str[0]\n",
    "address"
   ]
  },
  {
   "cell_type": "code",
   "execution_count": 25,
   "id": "13e86040",
   "metadata": {
    "scrolled": true
   },
   "outputs": [
    {
     "data": {
      "text/plain": [
       "93            전라북도 전주시 덕진구 동부대로 895, 6층 \n",
       "94              전라북도 전주시 덕진구 송천중앙로 125, \n",
       "95               전라북도 전주시 완산구 쑥고개로 343, \n",
       "96            전라북도 전주시 완산구 쑥고개로 398-16, \n",
       "106              전라북도 전주시 완산구 백제대로 361, \n",
       "                      ...               \n",
       "1585          전라북도 전주시 완산구 노송여울2길 134-0 \n",
       "1762    전라북도 전주시 완산구 세내로 285, 샘물아동병원 5층 \n",
       "2255              전라북도 전주시 덕진구 떡전로 15-0 \n",
       "2530       전라북도 전주시 완산구 백제대로 325, 온누리안과 \n",
       "2565             전라북도 전주시 덕진구 사근1길 10-0 \n",
       "Name: 도로명전체주소, Length: 124, dtype: object"
      ]
     },
     "execution_count": 25,
     "metadata": {},
     "output_type": "execute_result"
    }
   ],
   "source": [
    "condition = address.str.split(' ').str[1] == '전주시'\n",
    "jeonju = address[condition]\n",
    "jeonju"
   ]
  },
  {
   "cell_type": "markdown",
   "id": "077eed55",
   "metadata": {},
   "source": [
    "- insight\n",
    "\n",
    "1. 전주시 정보\n",
    " - 30인 이상 수용가능 병원 (상급종합병원) 개수 : 124개\n",
    " - 면적 : 206.2km²\n",
    "\n",
    "2. 전주시 인구 정보 :  657661 명(2021.01 기준)"
   ]
  },
  {
   "cell_type": "code",
   "execution_count": null,
   "id": "e11eb3a2",
   "metadata": {},
   "outputs": [],
   "source": []
  }
 ],
 "metadata": {
  "kernelspec": {
   "display_name": "Python 3 (ipykernel)",
   "language": "python",
   "name": "python3"
  },
  "language_info": {
   "codemirror_mode": {
    "name": "ipython",
    "version": 3
   },
   "file_extension": ".py",
   "mimetype": "text/x-python",
   "name": "python",
   "nbconvert_exporter": "python",
   "pygments_lexer": "ipython3",
   "version": "3.9.7"
  }
 },
 "nbformat": 4,
 "nbformat_minor": 5
}
